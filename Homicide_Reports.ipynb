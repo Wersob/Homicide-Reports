{
  "nbformat": 4,
  "nbformat_minor": 0,
  "metadata": {
    "colab": {
      "provenance": [],
      "authorship_tag": "ABX9TyO9Jmkicv43j6+TGiTDRLgk",
      "include_colab_link": true
    },
    "kernelspec": {
      "name": "python3",
      "display_name": "Python 3"
    },
    "language_info": {
      "name": "python"
    }
  },
  "cells": [
    {
      "cell_type": "markdown",
      "metadata": {
        "id": "view-in-github",
        "colab_type": "text"
      },
      "source": [
        "<a href=\"https://colab.research.google.com/github/Wersob/Homicide-Reports/blob/main/Homicide_Reports.ipynb\" target=\"_parent\"><img src=\"https://colab.research.google.com/assets/colab-badge.svg\" alt=\"Open In Colab\"/></a>"
      ]
    },
    {
      "cell_type": "code",
      "execution_count": null,
      "metadata": {
        "id": "WI2thlFRuFWo"
      },
      "outputs": [],
      "source": [
        "import pandas as pd"
      ]
    },
    {
      "cell_type": "code",
      "source": [
        "crimetypes_list = ['murder', 'manslaughter', 'negligence']\n",
        "crimetypes_list\n"
      ],
      "metadata": {
        "colab": {
          "base_uri": "https://localhost:8080/"
        },
        "id": "zELUaA3MuY2r",
        "outputId": "cecf4fcf-878c-43db-e26d-eac9097bdf62"
      },
      "execution_count": null,
      "outputs": [
        {
          "output_type": "execute_result",
          "data": {
            "text/plain": [
              "['murder', 'manslaughter', 'negligence']"
            ]
          },
          "metadata": {},
          "execution_count": 7
        }
      ]
    },
    {
      "cell_type": "code",
      "source": [
        "type(crimetypes_list)"
      ],
      "metadata": {
        "colab": {
          "base_uri": "https://localhost:8080/"
        },
        "id": "OqyLLrbPxMTP",
        "outputId": "71c7fc10-06b6-4c6e-91e4-7130c79e11f0"
      },
      "execution_count": null,
      "outputs": [
        {
          "output_type": "execute_result",
          "data": {
            "text/plain": [
              "list"
            ]
          },
          "metadata": {},
          "execution_count": 8
        }
      ]
    },
    {
      "cell_type": "code",
      "source": [
        "crime_series = pd.Series(data = crimetypes_list)\n",
        "crime_series"
      ],
      "metadata": {
        "colab": {
          "base_uri": "https://localhost:8080/"
        },
        "id": "8Ye9vAiGxs1Q",
        "outputId": "e988d43a-fdf3-449e-ca47-9fad3c7f6ea8"
      },
      "execution_count": null,
      "outputs": [
        {
          "output_type": "execute_result",
          "data": {
            "text/plain": [
              "0          murder\n",
              "1    manslaughter\n",
              "2      negligence\n",
              "dtype: object"
            ]
          },
          "metadata": {},
          "execution_count": 9
        }
      ]
    },
    {
      "cell_type": "code",
      "source": [
        "type(crime_series)"
      ],
      "metadata": {
        "colab": {
          "base_uri": "https://localhost:8080/"
        },
        "id": "xLSMTNC3zV0a",
        "outputId": "91cfb3cc-bee6-4deb-aea0-a8e731ae0c0a"
      },
      "execution_count": null,
      "outputs": [
        {
          "output_type": "execute_result",
          "data": {
            "text/plain": [
              "pandas.core.series.Series"
            ]
          },
          "metadata": {},
          "execution_count": 11
        }
      ]
    },
    {
      "cell_type": "code",
      "source": [
        "crime_amount_series = pd.Series(data = [54, 126, 6])\n",
        "crime_amount_series"
      ],
      "metadata": {
        "colab": {
          "base_uri": "https://localhost:8080/"
        },
        "id": "WlccgLe7CUfk",
        "outputId": "7d932161-a748-4650-e4db-6a6ff1080e95"
      },
      "execution_count": null,
      "outputs": [
        {
          "output_type": "execute_result",
          "data": {
            "text/plain": [
              "0     54\n",
              "1    126\n",
              "2      6\n",
              "dtype: int64"
            ]
          },
          "metadata": {},
          "execution_count": 12
        }
      ]
    },
    {
      "cell_type": "code",
      "source": [
        "import pandas as pd\n",
        "crimetypes_list = ['murder', 'manslaughter', 'negligence']\n",
        "crimeamount_list = [54, 126, 6]\n",
        "crimetypes_series = pd.Series(data = crimetypes_list, index = crimeamount_list)\n",
        "crimetypes_series\n",
        "\n"
      ],
      "metadata": {
        "colab": {
          "base_uri": "https://localhost:8080/"
        },
        "id": "wMLaElDEU4Dr",
        "outputId": "fa269c99-127d-4cd9-c967-6bdfb99a4791"
      },
      "execution_count": 1,
      "outputs": [
        {
          "output_type": "execute_result",
          "data": {
            "text/plain": [
              "54           murder\n",
              "126    manslaughter\n",
              "6        negligence\n",
              "dtype: object"
            ]
          },
          "metadata": {},
          "execution_count": 1
        }
      ]
    },
    {
      "cell_type": "code",
      "source": [
        "import pandas as pd\n",
        "perpetrator_dict = {'sex': 'male',\n",
        "                    'race': 'black',\n",
        "                    'weapon': 'gun'}\n",
        "\n",
        "perpetrator_dict = pd.Series(data = perpetrator_dict)\n",
        "perpetrator_dict\n",
        "\n"
      ],
      "metadata": {
        "colab": {
          "base_uri": "https://localhost:8080/"
        },
        "id": "QUML873aVifb",
        "outputId": "c70707cf-3930-4835-c159-007fa1398fad"
      },
      "execution_count": null,
      "outputs": [
        {
          "output_type": "execute_result",
          "data": {
            "text/plain": [
              "sex        male\n",
              "race      black\n",
              "weapon      gun\n",
              "dtype: object"
            ]
          },
          "metadata": {},
          "execution_count": 10
        }
      ]
    },
    {
      "cell_type": "code",
      "source": [
        "import pandas as pd\n",
        "portfolio_df = pd.DataFrame({'Type of crime' : ['murder', 'manslaughter', 'negligence'],\n",
        "                             'Number of crimes' : [158, 86, 21],\n",
        "                             'Number of victims per crime' : [4, 2, 1]})\n",
        "portfolio_df\n",
        "\n",
        "totalvalue_df = portfolio_df['Number of crimes'].multiply(portfolio_df['Number of victims per crime'])\n",
        "totalvalue_df\n",
        "\n",
        "TotalVictimsNumber_df = totalvalue_df.sum()\n",
        "TotalVictimsNumber_df"
      ],
      "metadata": {
        "id": "wiODaEfRYmxx",
        "colab": {
          "base_uri": "https://localhost:8080/"
        },
        "outputId": "63e4b4e0-8f00-4124-d0f0-3cf5dae8ddee"
      },
      "execution_count": 8,
      "outputs": [
        {
          "output_type": "execute_result",
          "data": {
            "text/plain": [
              "825"
            ]
          },
          "metadata": {},
          "execution_count": 8
        }
      ]
    },
    {
      "cell_type": "code",
      "source": [
        "import pandas as pd\n",
        "\n",
        "US_retirement_data_df = pd.read_html('https://www.ssa.gov/oact/progdata/nra.html')\n",
        "US_retirement_data_df[0]\n"
      ],
      "metadata": {
        "colab": {
          "base_uri": "https://localhost:8080/",
          "height": 488
        },
        "id": "z5EU2LjeRSti",
        "outputId": "e00f0a26-2741-4fac-9294-09d0d9591ac4"
      },
      "execution_count": 11,
      "outputs": [
        {
          "output_type": "execute_result",
          "data": {
            "text/plain": [
              "                                        Year of birth  \\\n",
              "0                                      1937 and prior   \n",
              "1                                                1938   \n",
              "2                                                1939   \n",
              "3                                                1940   \n",
              "4                                                1941   \n",
              "5                                                1942   \n",
              "6                                             1943-54   \n",
              "7                                                1955   \n",
              "8                                                1956   \n",
              "9                                                1957   \n",
              "10                                               1958   \n",
              "11                                               1959   \n",
              "12                                     1960 and later   \n",
              "13  Notes: 1. Persons born on January 1 of any yea...   \n",
              "\n",
              "                                                  Age  \n",
              "0                                                  65  \n",
              "1                                     65 and 2 months  \n",
              "2                                     65 and 4 months  \n",
              "3                                     65 and 6 months  \n",
              "4                                     65 and 8 months  \n",
              "5                                    65 and 10 months  \n",
              "6                                                  66  \n",
              "7                                     66 and 2 months  \n",
              "8                                     66 and 4 months  \n",
              "9                                     66 and 6 months  \n",
              "10                                    66 and 8 months  \n",
              "11                                   66 and 10 months  \n",
              "12                                                 67  \n",
              "13  Notes: 1. Persons born on January 1 of any yea...  "
            ],
            "text/html": [
              "\n",
              "  <div id=\"df-a58db604-293e-4262-8722-5b69a1b77f1c\">\n",
              "    <div class=\"colab-df-container\">\n",
              "      <div>\n",
              "<style scoped>\n",
              "    .dataframe tbody tr th:only-of-type {\n",
              "        vertical-align: middle;\n",
              "    }\n",
              "\n",
              "    .dataframe tbody tr th {\n",
              "        vertical-align: top;\n",
              "    }\n",
              "\n",
              "    .dataframe thead th {\n",
              "        text-align: right;\n",
              "    }\n",
              "</style>\n",
              "<table border=\"1\" class=\"dataframe\">\n",
              "  <thead>\n",
              "    <tr style=\"text-align: right;\">\n",
              "      <th></th>\n",
              "      <th>Year of birth</th>\n",
              "      <th>Age</th>\n",
              "    </tr>\n",
              "  </thead>\n",
              "  <tbody>\n",
              "    <tr>\n",
              "      <th>0</th>\n",
              "      <td>1937 and prior</td>\n",
              "      <td>65</td>\n",
              "    </tr>\n",
              "    <tr>\n",
              "      <th>1</th>\n",
              "      <td>1938</td>\n",
              "      <td>65 and 2 months</td>\n",
              "    </tr>\n",
              "    <tr>\n",
              "      <th>2</th>\n",
              "      <td>1939</td>\n",
              "      <td>65 and 4 months</td>\n",
              "    </tr>\n",
              "    <tr>\n",
              "      <th>3</th>\n",
              "      <td>1940</td>\n",
              "      <td>65 and 6 months</td>\n",
              "    </tr>\n",
              "    <tr>\n",
              "      <th>4</th>\n",
              "      <td>1941</td>\n",
              "      <td>65 and 8 months</td>\n",
              "    </tr>\n",
              "    <tr>\n",
              "      <th>5</th>\n",
              "      <td>1942</td>\n",
              "      <td>65 and 10 months</td>\n",
              "    </tr>\n",
              "    <tr>\n",
              "      <th>6</th>\n",
              "      <td>1943-54</td>\n",
              "      <td>66</td>\n",
              "    </tr>\n",
              "    <tr>\n",
              "      <th>7</th>\n",
              "      <td>1955</td>\n",
              "      <td>66 and 2 months</td>\n",
              "    </tr>\n",
              "    <tr>\n",
              "      <th>8</th>\n",
              "      <td>1956</td>\n",
              "      <td>66 and 4 months</td>\n",
              "    </tr>\n",
              "    <tr>\n",
              "      <th>9</th>\n",
              "      <td>1957</td>\n",
              "      <td>66 and 6 months</td>\n",
              "    </tr>\n",
              "    <tr>\n",
              "      <th>10</th>\n",
              "      <td>1958</td>\n",
              "      <td>66 and 8 months</td>\n",
              "    </tr>\n",
              "    <tr>\n",
              "      <th>11</th>\n",
              "      <td>1959</td>\n",
              "      <td>66 and 10 months</td>\n",
              "    </tr>\n",
              "    <tr>\n",
              "      <th>12</th>\n",
              "      <td>1960 and later</td>\n",
              "      <td>67</td>\n",
              "    </tr>\n",
              "    <tr>\n",
              "      <th>13</th>\n",
              "      <td>Notes: 1. Persons born on January 1 of any yea...</td>\n",
              "      <td>Notes: 1. Persons born on January 1 of any yea...</td>\n",
              "    </tr>\n",
              "  </tbody>\n",
              "</table>\n",
              "</div>\n",
              "      <button class=\"colab-df-convert\" onclick=\"convertToInteractive('df-a58db604-293e-4262-8722-5b69a1b77f1c')\"\n",
              "              title=\"Convert this dataframe to an interactive table.\"\n",
              "              style=\"display:none;\">\n",
              "        \n",
              "  <svg xmlns=\"http://www.w3.org/2000/svg\" height=\"24px\"viewBox=\"0 0 24 24\"\n",
              "       width=\"24px\">\n",
              "    <path d=\"M0 0h24v24H0V0z\" fill=\"none\"/>\n",
              "    <path d=\"M18.56 5.44l.94 2.06.94-2.06 2.06-.94-2.06-.94-.94-2.06-.94 2.06-2.06.94zm-11 1L8.5 8.5l.94-2.06 2.06-.94-2.06-.94L8.5 2.5l-.94 2.06-2.06.94zm10 10l.94 2.06.94-2.06 2.06-.94-2.06-.94-.94-2.06-.94 2.06-2.06.94z\"/><path d=\"M17.41 7.96l-1.37-1.37c-.4-.4-.92-.59-1.43-.59-.52 0-1.04.2-1.43.59L10.3 9.45l-7.72 7.72c-.78.78-.78 2.05 0 2.83L4 21.41c.39.39.9.59 1.41.59.51 0 1.02-.2 1.41-.59l7.78-7.78 2.81-2.81c.8-.78.8-2.07 0-2.86zM5.41 20L4 18.59l7.72-7.72 1.47 1.35L5.41 20z\"/>\n",
              "  </svg>\n",
              "      </button>\n",
              "      \n",
              "  <style>\n",
              "    .colab-df-container {\n",
              "      display:flex;\n",
              "      flex-wrap:wrap;\n",
              "      gap: 12px;\n",
              "    }\n",
              "\n",
              "    .colab-df-convert {\n",
              "      background-color: #E8F0FE;\n",
              "      border: none;\n",
              "      border-radius: 50%;\n",
              "      cursor: pointer;\n",
              "      display: none;\n",
              "      fill: #1967D2;\n",
              "      height: 32px;\n",
              "      padding: 0 0 0 0;\n",
              "      width: 32px;\n",
              "    }\n",
              "\n",
              "    .colab-df-convert:hover {\n",
              "      background-color: #E2EBFA;\n",
              "      box-shadow: 0px 1px 2px rgba(60, 64, 67, 0.3), 0px 1px 3px 1px rgba(60, 64, 67, 0.15);\n",
              "      fill: #174EA6;\n",
              "    }\n",
              "\n",
              "    [theme=dark] .colab-df-convert {\n",
              "      background-color: #3B4455;\n",
              "      fill: #D2E3FC;\n",
              "    }\n",
              "\n",
              "    [theme=dark] .colab-df-convert:hover {\n",
              "      background-color: #434B5C;\n",
              "      box-shadow: 0px 1px 3px 1px rgba(0, 0, 0, 0.15);\n",
              "      filter: drop-shadow(0px 1px 2px rgba(0, 0, 0, 0.3));\n",
              "      fill: #FFFFFF;\n",
              "    }\n",
              "  </style>\n",
              "\n",
              "      <script>\n",
              "        const buttonEl =\n",
              "          document.querySelector('#df-a58db604-293e-4262-8722-5b69a1b77f1c button.colab-df-convert');\n",
              "        buttonEl.style.display =\n",
              "          google.colab.kernel.accessAllowed ? 'block' : 'none';\n",
              "\n",
              "        async function convertToInteractive(key) {\n",
              "          const element = document.querySelector('#df-a58db604-293e-4262-8722-5b69a1b77f1c');\n",
              "          const dataTable =\n",
              "            await google.colab.kernel.invokeFunction('convertToInteractive',\n",
              "                                                     [key], {});\n",
              "          if (!dataTable) return;\n",
              "\n",
              "          const docLinkHtml = 'Like what you see? Visit the ' +\n",
              "            '<a target=\"_blank\" href=https://colab.research.google.com/notebooks/data_table.ipynb>data table notebook</a>'\n",
              "            + ' to learn more about interactive tables.';\n",
              "          element.innerHTML = '';\n",
              "          dataTable['output_type'] = 'display_data';\n",
              "          await google.colab.output.renderOutput(dataTable, element);\n",
              "          const docLink = document.createElement('div');\n",
              "          docLink.innerHTML = docLinkHtml;\n",
              "          element.appendChild(docLink);\n",
              "        }\n",
              "      </script>\n",
              "    </div>\n",
              "  </div>\n",
              "  "
            ]
          },
          "metadata": {},
          "execution_count": 11
        }
      ]
    },
    {
      "cell_type": "code",
      "source": [],
      "metadata": {
        "id": "3GE4ZbcmirVi"
      },
      "execution_count": null,
      "outputs": []
    }
  ]
}